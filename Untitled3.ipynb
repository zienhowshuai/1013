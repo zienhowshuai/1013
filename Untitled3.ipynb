{
  "nbformat": 4,
  "nbformat_minor": 0,
  "metadata": {
    "colab": {
      "provenance": []
    },
    "kernelspec": {
      "name": "python3",
      "display_name": "Python 3"
    },
    "language_info": {
      "name": "python"
    }
  },
  "cells": [
    {
      "cell_type": "code",
      "source": [],
      "metadata": {
        "id": "KBiQMi66GgUM"
      },
      "execution_count": null,
      "outputs": []
    },
    {
      "cell_type": "code",
      "execution_count": 3,
      "metadata": {
        "colab": {
          "base_uri": "https://localhost:8080/"
        },
        "id": "_K52wOzPDEaT",
        "outputId": "39bcbcdb-09b7-4dad-fd43-e2769baa38fd"
      },
      "outputs": [
        {
          "output_type": "stream",
          "name": "stdout",
          "text": [
            "\n",
            "您想查詢什麼？(藥方名稱/出典/處方/效能/適應症/退出查詢)：藥方名稱\n",
            "杞菊地黃丸《丸》\n",
            "\n",
            "您想查詢什麼？(藥方名稱/出典/處方/效能/適應症/退出查詢)：出典\n",
            "杞菊地黃丸《丸》的出典為:中國醫學大辭典\n",
            "\n",
            "您想查詢什麼？(藥方名稱/出典/處方/效能/適應症/退出查詢)：處方\n",
            "杞菊地黃丸《丸》的處方為:\n",
            "枸杞子：2公克\n",
            "甘菊花：2公克\n",
            "熟地黃：8公克\n",
            "山茱萸：4公克\n",
            "山藥：4公克\n",
            "茯苓：3公克\n",
            "牡丹皮：3公克\n",
            "澤瀉：3公克\n",
            "總克數為：29公克\n",
            "\n",
            "您想查詢什麼？(藥方名稱/出典/處方/效能/適應症/退出查詢)：效能\n",
            "杞菊地黃丸《丸》的效能是:滋腎養肝\n",
            "\n",
            "您想查詢什麼？(藥方名稱/出典/處方/效能/適應症/退出查詢)：適應症\n",
            "杞菊地黃丸《丸》的適應症有:\n",
            "肝腎陰虛\n",
            "頭暈目眩\n",
            "視物不清\n",
            "眼睛澀痛\n",
            "迎風流淚\n",
            "\n",
            "您想查詢什麼？(藥方名稱/出典/處方/效能/適應症/退出查詢)：退出查詢\n",
            "感謝使用，再見！\n"
          ]
        }
      ],
      "source": [
        "# 定義六味地黃丸的資料\n",
        "prescription = {\n",
        "    '名稱': '杞菊地黃丸《丸》',\n",
        "    '出典': '中國醫學大辭典',\n",
        "    '處方': {\n",
        "        '枸杞子': 2,\n",
        "        '甘菊花': 2,\n",
        "        '熟地黃': 8,\n",
        "        '山茱萸': 4,\n",
        "        '山藥': 4,\n",
        "        '茯苓': 3,\n",
        "        '牡丹皮': 3,\n",
        "        '澤瀉': 3,\n",
        "    },\n",
        "    '效能': '滋腎養肝',\n",
        "    '適應症': ['肝腎陰虛', '頭暈目眩', '視物不清', '眼睛澀痛', '迎風流淚']\n",
        "}\n",
        "\n",
        "# 使用 while 迴圈提供查詢服務\n",
        "while True:\n",
        "    query = input(\"\\n您想查詢什麼？(藥方名稱/出典/處方/效能/適應症/退出查詢)：\")\n",
        "\n",
        "    if query == \"藥方名稱\":\n",
        "        print(f\"{prescription['名稱']}\")\n",
        "    elif query == \"出典\":\n",
        "        print(f\"{prescription['名稱']}的出典為:{prescription['出典']}\")\n",
        "    elif query == \"適應症\":\n",
        "        print(f\"{prescription['名稱']}的適應症有:\")\n",
        "        for symptom in prescription['適應症']:\n",
        "            print(symptom)\n",
        "    elif query == \"處方\":\n",
        "        total_weight = sum(prescription['處方'].values())\n",
        "        print(f\"{prescription['名稱']}的處方為:\")\n",
        "        for medicine, weight in prescription['處方'].items():\n",
        "            print(f\"{medicine}：{weight}公克\")\n",
        "        print(f\"總克數為：{total_weight}公克\")\n",
        "    elif query == \"效能\":\n",
        "        print(f\"{prescription['名稱']}的效能是:{prescription['效能']}\")\n",
        "    elif query == \"退出查詢\":\n",
        "        print(\"感謝使用，再見！\")\n",
        "        break\n",
        "    else:\n",
        "        print(\"輸入無效，請重新輸入。\")\n",
        "\n",
        "\n"
      ]
    }
  ]
}