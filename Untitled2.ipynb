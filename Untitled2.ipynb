{
  "nbformat": 4,
  "nbformat_minor": 0,
  "metadata": {
    "colab": {
      "provenance": []
    },
    "kernelspec": {
      "name": "python3",
      "display_name": "Python 3"
    },
    "language_info": {
      "name": "python"
    }
  },
  "cells": [
    {
      "cell_type": "code",
      "source": [
        "number = int(input(\"輸入範圍\"))\n",
        "for i in range(1, number + 1):\n",
        "  for j in range(1, number + 1):\n",
        "    print(f\"{i} * {j} = {i * j}\")"
      ],
      "metadata": {
        "colab": {
          "base_uri": "https://localhost:8080/"
        },
        "id": "zHCRGyuLB4j3",
        "outputId": "ed731428-739f-471c-b0d1-6d429d693a8c"
      },
      "execution_count": 2,
      "outputs": [
        {
          "output_type": "stream",
          "name": "stdout",
          "text": [
            "輸入範圍4\n",
            "1 * 1 = 1\n",
            "1 * 2 = 2\n",
            "1 * 3 = 3\n",
            "1 * 4 = 4\n",
            "2 * 1 = 2\n",
            "2 * 2 = 4\n",
            "2 * 3 = 6\n",
            "2 * 4 = 8\n",
            "3 * 1 = 3\n",
            "3 * 2 = 6\n",
            "3 * 3 = 9\n",
            "3 * 4 = 12\n",
            "4 * 1 = 4\n",
            "4 * 2 = 8\n",
            "4 * 3 = 12\n",
            "4 * 4 = 16\n"
          ]
        }
      ]
    },
    {
      "cell_type": "code",
      "source": [
        "import random\n",
        "# 生成一個隨機數字，這是要猜的數字\n",
        "target_number = random.randint(1, 100)\n",
        "\n",
        "print(\"魷魚遊戲之猜數字!\")\n",
        "ans = 0\n",
        "while ans == 0:\n",
        "  guess = int(input(\"你的數字:\"))\n",
        "  if guess > target_number:\n",
        "    print(\"太高啦哈哈\")\n",
        "  elif guess < target_number:\n",
        "    print(\"太低啦哈哈\")\n",
        "  else:\n",
        "    print(f\"終於答對了QQ 答案是{target_number}\")\n",
        "    ans = 1\n",
        "print(\"VICTORY\")\n"
      ],
      "metadata": {
        "colab": {
          "base_uri": "https://localhost:8080/"
        },
        "id": "fDwdP3GxDFTW",
        "outputId": "55d912f0-1065-4c23-ceee-c847022c5485"
      },
      "execution_count": 3,
      "outputs": [
        {
          "output_type": "stream",
          "name": "stdout",
          "text": [
            "魷魚遊戲之猜數字!\n",
            "你的數字:50\n",
            "太低啦哈哈\n",
            "你的數字:75\n",
            "太低啦哈哈\n",
            "你的數字:87\n",
            "太低啦哈哈\n",
            "你的數字:93\n",
            "太低啦哈哈\n",
            "你的數字:96\n",
            "終於答對了QQ 答案是96\n",
            "VICTORY\n"
          ]
        }
      ]
    }
  ]
}