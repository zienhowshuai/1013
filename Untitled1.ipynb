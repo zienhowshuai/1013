{
  "nbformat": 4,
  "nbformat_minor": 0,
  "metadata": {
    "colab": {
      "provenance": []
    },
    "kernelspec": {
      "name": "python3",
      "display_name": "Python 3"
    },
    "language_info": {
      "name": "python"
    }
  },
  "cells": [
    {
      "cell_type": "code",
      "execution_count": 4,
      "metadata": {
        "colab": {
          "base_uri": "https://localhost:8080/"
        },
        "id": "Q1TdxU9i_eeF",
        "outputId": "27ea7b7b-02a3-43cf-c709-e1d8b3820401"
      },
      "outputs": [
        {
          "output_type": "stream",
          "name": "stdout",
          "text": [
            "<class 'str'> <class 'str'>\n",
            "{'name': '陳劉寬', 'number': 'B1205003'}\n"
          ]
        }
      ],
      "source": [
        "name = \"陳劉寬\"\n",
        "number = \"B1205003\"\n",
        "print(type(name), type(number))\n",
        "self_information = { 'name' : name, 'number' : number }\n",
        "print(self_information)"
      ]
    }
  ]
}